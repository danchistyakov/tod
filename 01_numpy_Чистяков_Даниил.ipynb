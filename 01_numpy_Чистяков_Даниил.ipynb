{
  "cells": [
    {
      "cell_type": "markdown",
      "metadata": {
        "id": "Cwuk9qQrwjYe"
      },
      "source": [
        "# Numpy"
      ]
    },
    {
      "cell_type": "markdown",
      "metadata": {
        "id": "M8piQFIZwjYt"
      },
      "source": [
        "Материалы:\n",
        "* Макрушин С.В. \"Лекция 1: Библиотека Numpy\"\n",
        "* https://numpy.org/doc/stable/user/index.html\n",
        "* https://numpy.org/doc/stable/reference/index.html"
      ]
    },
    {
      "cell_type": "markdown",
      "metadata": {
        "id": "JWH_M4gOwjYv"
      },
      "source": [
        "## Задачи для совместного разбора"
      ]
    },
    {
      "cell_type": "markdown",
      "metadata": {
        "id": "AmBrj_dSwjYw"
      },
      "source": [
        "1. Сгенерировать двухмерный массив `arr` размерности (4, 7), состоящий из случайных действительных чисел, равномерно распределенных в диапазоне от 0 до 20. Нормализовать значения массива с помощью преобразования вида  $𝑎𝑥+𝑏$  так, что после нормализации максимальный элемент масcива будет равен 1.0, минимальный 0.0"
      ]
    },
    {
      "cell_type": "code",
      "execution_count": null,
      "metadata": {
        "id": "kEkvdrJ3wjYx"
      },
      "outputs": [],
      "source": [
        "import numpy as np"
      ]
    },
    {
      "cell_type": "code",
      "source": [
        "import random\n",
        "matrix = np.random.uniform(0, 20, 28).reshape(4,7)\n",
        "print(f'Матрица:\\n{matrix}')\n",
        "min_value = np.min(matrix)\n",
        "max_value = np.max(matrix)\n",
        "print('Нормализованная матрица\\n',np.around((matrix-min_value)/(max_value-min_value), decimals=4))\n"
      ],
      "metadata": {
        "colab": {
          "base_uri": "https://localhost:8080/"
        },
        "id": "vhTi3ihpfaFJ",
        "outputId": "7ee6c383-f176-45ed-924a-20f89b57b326"
      },
      "execution_count": null,
      "outputs": [
        {
          "output_type": "stream",
          "name": "stdout",
          "text": [
            "Матрица:\n",
            "[[ 9.98250517 11.46902909  9.13631631  0.8584485   5.91380337 10.25665627\n",
            "   2.03780905]\n",
            " [16.61915552  5.78258446  9.73820204 19.19236097 16.21179892  4.67480984\n",
            "  17.16616364]\n",
            " [ 2.62177289  0.93843742  5.3484628   6.57850453 11.65632351  1.57052078\n",
            "  13.54109464]\n",
            " [18.35547423 17.16874188  4.38854064 12.78131104 15.11680761 14.34308781\n",
            "   0.29327851]]\n",
            "Нормализованная матрица\n",
            " [[0.5127 0.5913 0.4679 0.0299 0.2974 0.5272 0.0923]\n",
            " [0.8638 0.2905 0.4998 1.     0.8423 0.2318 0.8928]\n",
            " [0.1232 0.0341 0.2675 0.3326 0.6012 0.0676 0.701 ]\n",
            " [0.9557 0.8929 0.2167 0.6608 0.7844 0.7434 0.    ]]\n"
          ]
        }
      ]
    },
    {
      "cell_type": "code",
      "source": [
        "matrix = np.linspace(0,20, num = 28).reshape(4,7)\n",
        "print(np.around(matrix, decimals = 4))"
      ],
      "metadata": {
        "colab": {
          "base_uri": "https://localhost:8080/"
        },
        "id": "KjGiPaU8tgiE",
        "outputId": "0e49a520-f73a-4b42-8ae0-ef97b680b8ec"
      },
      "execution_count": null,
      "outputs": [
        {
          "output_type": "stream",
          "name": "stdout",
          "text": [
            "[[ 0.      0.7407  1.4815  2.2222  2.963   3.7037  4.4444]\n",
            " [ 5.1852  5.9259  6.6667  7.4074  8.1481  8.8889  9.6296]\n",
            " [10.3704 11.1111 11.8519 12.5926 13.3333 14.0741 14.8148]\n",
            " [15.5556 16.2963 17.037  17.7778 18.5185 19.2593 20.    ]]\n"
          ]
        }
      ]
    },
    {
      "cell_type": "markdown",
      "metadata": {
        "id": "qd34UIJmwjYz"
      },
      "source": [
        "2. Создать матрицу 8 на 10 из случайных целых (используя модуль `numpy.random`) чисел из диапозона от 0 до 10 и найти в ней строку (ее индекс и вывести саму строку), в которой сумма значений минимальна."
      ]
    },
    {
      "cell_type": "code",
      "source": [
        "matrix = np.random.randint(0, 10, (8, 10))\n",
        "print('Матрица имеет вид\\n', matrix)\n",
        "min_sum = sum(matrix[0])\n",
        "for i in range(len(matrix)): \n",
        "  if sum(matrix[i]) < min_sum:\n",
        "    min_sum = sum(matrix[i])\n",
        "    index = i\n",
        "print(f'Индекс строки {index}\\nСтрока матрицы с наименьшей суммой {matrix[index]}\\nСумма элементор строки равна {min_sum}')"
      ],
      "metadata": {
        "colab": {
          "base_uri": "https://localhost:8080/"
        },
        "id": "iYQ2A4HrxKmk",
        "outputId": "3f256dbf-8636-465e-9358-d2bf4dc100e7"
      },
      "execution_count": null,
      "outputs": [
        {
          "output_type": "stream",
          "name": "stdout",
          "text": [
            "Матрица имеет вид\n",
            " [[8 1 5 1 6 6 7 5 8 0]\n",
            " [4 3 0 2 2 3 2 8 7 8]\n",
            " [1 0 3 2 2 1 6 7 6 4]\n",
            " [4 5 5 0 9 5 1 6 7 5]\n",
            " [3 2 4 0 9 8 3 8 0 9]\n",
            " [4 8 2 8 4 8 1 0 9 7]\n",
            " [8 1 4 5 8 1 2 1 8 3]\n",
            " [9 0 2 1 9 9 9 2 9 3]]\n",
            "Индекс строки 2\n",
            "Строка матрицы с наименьшей суммой [1 0 3 2 2 1 6 7 6 4]\n",
            "Сумма элементор строки равна 32\n"
          ]
        }
      ]
    },
    {
      "cell_type": "markdown",
      "metadata": {
        "id": "XIzX4zJcwjY0"
      },
      "source": [
        "3. Найти евклидово расстояние между двумя одномерными векторами одинаковой размерности."
      ]
    },
    {
      "cell_type": "code",
      "source": [
        "v1 = np.array([int(i) for i in input('Введите координаты одномерного вектора через запятую, без пробела: ').split(',')])\n",
        "v2 = np.array([int(i) for i in input('Введите координаты одномерного вектора через запятую, без пробела: ').split(',')])\n",
        "distance = np.sqrt(np.sum(np.square(v1-v2)))\n",
        "print(distance)"
      ],
      "metadata": {
        "id": "1r6RPI6Tx-sx",
        "colab": {
          "base_uri": "https://localhost:8080/"
        },
        "outputId": "2e9fc04b-6d81-41ac-f04f-d092631f60bc"
      },
      "execution_count": null,
      "outputs": [
        {
          "output_type": "stream",
          "name": "stdout",
          "text": [
            "Введите координаты одномерного векора через запятую, без пробела: 0,0,0\n",
            "Введите координаты одномерного векора через запятую, без пробела: 3,3,3\n",
            "5.196152422706632\n"
          ]
        }
      ]
    },
    {
      "cell_type": "markdown",
      "metadata": {
        "id": "M9SR1nUqwjY2"
      },
      "source": [
        "4. Решить матричное уравнение `A*X*B=-C` - найти матрицу `X`. Где `A = [[-1, 2, 4], [-3, 1, 2], [-3, 0, 1]]`, `B=[[3, -1], [2, 1]]`, `C=[[7, 21], [11, 8], [8, 4]]`."
      ]
    },
    {
      "cell_type": "code",
      "source": [
        "A = np.array([[-1, 2, 4], [-3, 1, 2], [-3, 0, 1]])\n",
        "B = np.array([[3, -1], [2, 1]])\n",
        "C = np.array([[7, 21], [11, 8], [8, 4]])\n",
        "AX = np.dot(C*(-1), np.linalg.inv(B))\n",
        "X = np.dot(np.linalg.inv(A), AX)\n",
        "print(np.around(X, decimals = 2))"
      ],
      "metadata": {
        "id": "h-SJlzsi1jGs",
        "colab": {
          "base_uri": "https://localhost:8080/"
        },
        "outputId": "19dcd626-0580-4d6e-c14c-6b657fbd00bc"
      },
      "execution_count": null,
      "outputs": [
        {
          "output_type": "stream",
          "name": "stdout",
          "text": [
            "[[ 1.  0.]\n",
            " [-2.  1.]\n",
            " [ 3. -4.]]\n"
          ]
        }
      ]
    },
    {
      "cell_type": "markdown",
      "metadata": {
        "id": "BXbezJ-7wjY3"
      },
      "source": [
        "## Лабораторная работа №1"
      ]
    },
    {
      "cell_type": "markdown",
      "metadata": {
        "id": "-XhAh11RwjY4"
      },
      "source": [
        "Замечание: при решении данных задач не подразумевается использования циклов или генераторов Python, если в задании не сказано обратного. Решение должно опираться на использования функционала библиотеки `numpy`."
      ]
    },
    {
      "cell_type": "markdown",
      "metadata": {
        "id": "OXwPnjxswjY5"
      },
      "source": [
        "1. Файл `minutes_n_ingredients.csv` содержит информацию об идентификаторе рецепта, времени его выполнения в минутах и количестве необходимых ингредиентов. Считайте данные из этого файла в виде массива `numpy` типа `int32`, используя `np.loadtxt`. Выведите на экран первые 5 строк массива."
      ]
    },
    {
      "cell_type": "code",
      "source": [
        "import numpy as np\n",
        "recipe = np.loadtxt('minutes_n_ingredients.csv', dtype = 'int32',delimiter=',', skiprows = 1)\n",
        "print(recipe[:5])"
      ],
      "metadata": {
        "colab": {
          "base_uri": "https://localhost:8080/"
        },
        "id": "2OEePVKk_64D",
        "outputId": "31a6a7fc-796d-474e-89ba-719b0ac0a84a"
      },
      "execution_count": null,
      "outputs": [
        {
          "output_type": "stream",
          "name": "stdout",
          "text": [
            "[[127244     60     16]\n",
            " [ 23891     25      7]\n",
            " [ 94746     10      6]\n",
            " [ 67660      5      6]\n",
            " [157911     60     14]]\n"
          ]
        }
      ]
    },
    {
      "cell_type": "markdown",
      "metadata": {
        "id": "mt_E0bpTwjY5"
      },
      "source": [
        "2. Вычислите среднее значение, минимум, максимум и медиану по каждому из столбцов, кроме первого."
      ]
    },
    {
      "cell_type": "code",
      "source": [
        "print('Среднее значение в столбцах ', np.mean(recipe[:,1:],0))\n",
        "print('Максимальные значения в столбцах ',np.max(recipe[:,1:],0))\n",
        "print('Минимальные значения в столбцах ',np.min(recipe[:,1:],0))\n",
        "print('Медиана в столбцах ',np.median(recipe[:,1:],0))"
      ],
      "metadata": {
        "colab": {
          "base_uri": "https://localhost:8080/"
        },
        "id": "H7EN59QdM94q",
        "outputId": "50b1faf5-bbc1-403c-bf05-564a670710db"
      },
      "execution_count": null,
      "outputs": [
        {
          "output_type": "stream",
          "name": "stdout",
          "text": [
            "Среднее значение в столбцах  [2.16010017e+04 9.05528000e+00]\n",
            "Максимальные значения в столбцах  [2147483647         39]\n",
            "Минимальные значения в столбцах  [0 1]\n",
            "Медиана в столбцах  [40.  9.]\n"
          ]
        }
      ]
    },
    {
      "cell_type": "markdown",
      "metadata": {
        "id": "M29c-ILywjY6"
      },
      "source": [
        "3. Ограничьте сверху значения продолжительности выполнения рецепта значением квантиля $q_{0.75}$. "
      ]
    },
    {
      "cell_type": "code",
      "source": [
        "max_time = np.quantile(recipe[:,1], 0.75, axis = 0)\n",
        "print(max_time)\n",
        "print(recipe[recipe[:,1]<=max_time])\n"
      ],
      "metadata": {
        "colab": {
          "base_uri": "https://localhost:8080/"
        },
        "id": "EtHWUuwVSNOM",
        "outputId": "24e437dc-76dc-429c-fdca-a6d830980f81"
      },
      "execution_count": null,
      "outputs": [
        {
          "output_type": "stream",
          "name": "stdout",
          "text": [
            "65.0\n",
            "[[127244     60     16]\n",
            " [ 23891     25      7]\n",
            " [ 94746     10      6]\n",
            " ...\n",
            " [ 43407     35      7]\n",
            " [498432     65     15]\n",
            " [370915      5      4]]\n"
          ]
        }
      ]
    },
    {
      "cell_type": "markdown",
      "metadata": {
        "id": "onaSjzlKwjY6"
      },
      "source": [
        "4. Посчитайте, для скольких рецептов указана продолжительность, равная нулю. Замените для таких строк значение в данном столбце на 1."
      ]
    },
    {
      "cell_type": "code",
      "source": [
        "num_zero = np.count_nonzero(recipe[:,1] == 0)\n",
        "print(num_zero)\n",
        "recipe[recipe[:,1]==0] = 1\n",
        "print( np.count_nonzero(recipe[:,1] == 0))"
      ],
      "metadata": {
        "colab": {
          "base_uri": "https://localhost:8080/"
        },
        "id": "l7evxpedV_wj",
        "outputId": "cfbdee1c-abf3-485f-e3ad-501b6aa7db57"
      },
      "execution_count": null,
      "outputs": [
        {
          "output_type": "stream",
          "name": "stdout",
          "text": [
            "0\n",
            "0\n"
          ]
        }
      ]
    },
    {
      "cell_type": "markdown",
      "metadata": {
        "id": "FKbbdwvMwjY7"
      },
      "source": [
        "5. Посчитайте, сколько уникальных рецептов находится в датасете."
      ]
    },
    {
      "cell_type": "code",
      "source": [
        "unique = np.unique(recipe[:,0])\n",
        "print(len(unique))"
      ],
      "metadata": {
        "colab": {
          "base_uri": "https://localhost:8080/"
        },
        "id": "pIUciLHTZV43",
        "outputId": "adcf898a-cd7d-46bb-d22c-c39f5f64433e"
      },
      "execution_count": null,
      "outputs": [
        {
          "output_type": "stream",
          "name": "stdout",
          "text": [
            "99285\n"
          ]
        }
      ]
    },
    {
      "cell_type": "markdown",
      "metadata": {
        "id": "zyE2qvxxwjY7"
      },
      "source": [
        "6. Сколько и каких различных значений кол-ва ингредиентов присутвует в рецептах из датасета?"
      ]
    },
    {
      "cell_type": "code",
      "source": [
        "unique, num = np.unique(recipe[:,2], return_counts=True)\n",
        "print(np.column_stack((unique, num)))"
      ],
      "metadata": {
        "colab": {
          "base_uri": "https://localhost:8080/"
        },
        "id": "bU5JeEgeaa1C",
        "outputId": "86cb1e07-afbf-458b-b2ee-b18c6f4dbaae"
      },
      "execution_count": null,
      "outputs": [
        {
          "output_type": "stream",
          "name": "stdout",
          "text": [
            "[[    1   729]\n",
            " [    2   872]\n",
            " [    3  2821]\n",
            " [    4  5435]\n",
            " [    5  7845]\n",
            " [    6  9315]\n",
            " [    7 10568]\n",
            " [    8 10874]\n",
            " [    9 10539]\n",
            " [   10  9545]\n",
            " [   11  8260]\n",
            " [   12  6572]\n",
            " [   13  4985]\n",
            " [   14  3639]\n",
            " [   15  2583]\n",
            " [   16  1760]\n",
            " [   17  1236]\n",
            " [   18   787]\n",
            " [   19   566]\n",
            " [   20   376]\n",
            " [   21   214]\n",
            " [   22   161]\n",
            " [   23   104]\n",
            " [   24    68]\n",
            " [   25    50]\n",
            " [   26    28]\n",
            " [   27    16]\n",
            " [   28    16]\n",
            " [   29    12]\n",
            " [   30    12]\n",
            " [   31     3]\n",
            " [   32     1]\n",
            " [   33     2]\n",
            " [   34     1]\n",
            " [   35     3]\n",
            " [   37     1]\n",
            " [   39     1]]\n"
          ]
        }
      ]
    },
    {
      "cell_type": "markdown",
      "metadata": {
        "id": "HkvP8TN_wjY8"
      },
      "source": [
        "7. Создайте версию массива, содержащую информацию только о рецептах, состоящих не более чем из 5 ингредиентов."
      ]
    },
    {
      "cell_type": "code",
      "source": [
        "array = recipe[recipe[:,2]<=5]\n",
        "new_array = np.copy(array)\n",
        "print(new_array)\n",
        "print('\\n\\n',recipe)"
      ],
      "metadata": {
        "colab": {
          "base_uri": "https://localhost:8080/"
        },
        "id": "IZkaNvRVc0oJ",
        "outputId": "261e7cae-e3f7-4b02-9352-2fbb94b93ba9"
      },
      "execution_count": null,
      "outputs": [
        {
          "output_type": "stream",
          "name": "stdout",
          "text": [
            "[[446597     15      5]\n",
            " [204134      5      3]\n",
            " [ 25623      6      4]\n",
            " ...\n",
            " [ 52088     60      5]\n",
            " [128811     15      4]\n",
            " [370915      5      4]]\n",
            "\n",
            "\n",
            " [[127244     60     16]\n",
            " [ 23891     25      7]\n",
            " [ 94746     10      6]\n",
            " ...\n",
            " [498432     65     15]\n",
            " [370915      5      4]\n",
            " [ 81993    140     14]]\n"
          ]
        }
      ]
    },
    {
      "cell_type": "markdown",
      "metadata": {
        "id": "7JZZ8wDTwjY8"
      },
      "source": [
        "8. Для каждого рецепта посчитайте, сколько в среднем ингредиентов приходится на одну минуту рецепта. Найдите максимальное значение этой величины для всего датасета"
      ]
    },
    {
      "cell_type": "code",
      "source": [
        "mean_ingred = recipe[:,2]/recipe[:,1]\n",
        "print('Количество ингридиентов на одну минуту\\n', mean_ingred)\n",
        "print('Максимальное значение этой величины для всего датасета\\n', max(mean_ingred))\n"
      ],
      "metadata": {
        "colab": {
          "base_uri": "https://localhost:8080/"
        },
        "id": "2EUYikNkgh2B",
        "outputId": "4af3b274-c456-45a9-913b-3ca6820f4cca"
      },
      "execution_count": null,
      "outputs": [
        {
          "output_type": "stream",
          "name": "stdout",
          "text": [
            "Количество ингридиентов на одну минуту\n",
            " [0.26666667 0.28       0.6        ... 0.23076923 0.8        0.1       ]\n",
            "Максимальное значение этой величины для всего датасета\n",
            " 14.0\n"
          ]
        }
      ]
    },
    {
      "cell_type": "markdown",
      "metadata": {
        "id": "U6SGmfAKwjY8"
      },
      "source": [
        "9. Вычислите среднее количество ингредиентов для топ-100 рецептов с наибольшей продолжительностью"
      ]
    },
    {
      "cell_type": "code",
      "source": [
        "length_top_100_indexes = recipe[:,1].argsort()\n",
        "length_top_100 = recipe[length_top_100_indexes][-100:]\n",
        "#print('Топ-100 рецептов с наибольшей продолжительностью\\n', length_top_100)\n",
        "print('Среднее кол-во ингридиентов для топ-100 рецептов\\n', np.mean(length_top_100[:,2], axis = 0))"
      ],
      "metadata": {
        "colab": {
          "base_uri": "https://localhost:8080/"
        },
        "id": "WlugQcutmODd",
        "outputId": "f6f46189-8760-49df-f401-163ffe4ddd1f"
      },
      "execution_count": null,
      "outputs": [
        {
          "output_type": "stream",
          "name": "stdout",
          "text": [
            "Среднее кол-во ингридиентов для топ-100 рецептов\n",
            " 6.61\n"
          ]
        }
      ]
    },
    {
      "cell_type": "markdown",
      "metadata": {
        "id": "ySmmUn-bwjY8"
      },
      "source": [
        "10. Выберите случайным образом и выведите информацию о 10 различных рецептах"
      ]
    },
    {
      "cell_type": "code",
      "source": [
        "indexes = np.random.randint(recipe.shape[0], size = 10)\n",
        "print(recipe[indexes])"
      ],
      "metadata": {
        "colab": {
          "base_uri": "https://localhost:8080/"
        },
        "id": "xqf5ahQpaMQe",
        "outputId": "5d0ba849-b89f-46ce-e40d-7ad27a21feb5"
      },
      "execution_count": null,
      "outputs": [
        {
          "output_type": "stream",
          "name": "stdout",
          "text": [
            "[63583 97569 87295 25600 61133 13310 84896 38261 19891  3650]\n",
            "[[ 13665     20      4]\n",
            " [ 68088     30      9]\n",
            " [228465     65      6]\n",
            " [140139    145     11]\n",
            " [145792     50      5]\n",
            " [354786     17      5]\n",
            " [ 36018     70      8]\n",
            " [217296     65     10]\n",
            " [241458     40      7]\n",
            " [180793     80      8]]\n"
          ]
        }
      ]
    },
    {
      "cell_type": "markdown",
      "metadata": {
        "id": "UnDmVUjiwjY9"
      },
      "source": [
        "11. Выведите процент рецептов, кол-во ингредиентов в которых меньше среднего."
      ]
    },
    {
      "cell_type": "code",
      "source": [
        "mean_n_ingr = np.mean(recipe[:,2], axis = 0)\n",
        "print(recipe[recipe[:,2]<mean_n_ingr])\n",
        "print('Процент рецептов, кол-во ингредиентов в которых меньше среднего')\n",
        "print((100*len(recipe[recipe[:,2]<mean_n_ingr]))/len(recipe))"
      ],
      "metadata": {
        "colab": {
          "base_uri": "https://localhost:8080/"
        },
        "id": "sle7hm_sf9yy",
        "outputId": "ade7bc52-33f5-47f4-b10b-a1f392c7a68c"
      },
      "execution_count": null,
      "outputs": [
        {
          "output_type": "stream",
          "name": "stdout",
          "text": [
            "[[ 23891     25      7]\n",
            " [ 94746     10      6]\n",
            " [ 67660      5      6]\n",
            " ...\n",
            " [371794     35      8]\n",
            " [ 43407     35      7]\n",
            " [370915      5      4]]\n",
            "Процент рецептов, кол-во ингредиентов в которых меньше среднего\n",
            "58.802\n"
          ]
        }
      ]
    },
    {
      "cell_type": "markdown",
      "metadata": {
        "id": "i9gTz6pPwjY9"
      },
      "source": [
        "12. Назовем \"простым\" такой рецепт, длительность выполнения которого не больше 20 минут и кол-во ингредиентов в котором не больше 5. Создайте версию датасета с дополнительным столбцом, значениями которого являются 1, если рецепт простой, и 0 в противном случае."
      ]
    },
    {
      "cell_type": "code",
      "source": [
        "new_recipe = np.append(recipe, np.zeros((recipe.shape[0],1), dtype = 'int32'), axis = 1)\n",
        "new_recipe[np.logical_and(new_recipe[:,1]<=20,new_recipe[:,2]<=5)] = 1\n",
        "new_recipe = new_recipe.copy()\n",
        "print(new_recipe)"
      ],
      "metadata": {
        "colab": {
          "base_uri": "https://localhost:8080/"
        },
        "id": "Vn0opPa-hn8Y",
        "outputId": "d0e85862-401c-4310-c6c2-98ef99074554"
      },
      "execution_count": null,
      "outputs": [
        {
          "output_type": "stream",
          "name": "stdout",
          "text": [
            "100000\n",
            "[[127244     60     16]\n",
            " [ 23891     25      7]\n",
            " [ 94746     10      6]\n",
            " ...\n",
            " [498432     65     15]\n",
            " [370915      5      4]\n",
            " [ 81993    140     14]]\n"
          ]
        }
      ]
    },
    {
      "cell_type": "markdown",
      "metadata": {
        "id": "-DZcT8l6wjY9"
      },
      "source": [
        "13. Выведите процент \"простых\" рецептов в датасете"
      ]
    },
    {
      "cell_type": "code",
      "source": [
        "print((100*len(new_recipe[new_recipe[:,3] == 1]))/len(recipe))"
      ],
      "metadata": {
        "colab": {
          "base_uri": "https://localhost:8080/"
        },
        "id": "sed2mZ4CoHwS",
        "outputId": "5501caf7-d247-4e85-b877-1a157b4c9730"
      },
      "execution_count": null,
      "outputs": [
        {
          "output_type": "stream",
          "name": "stdout",
          "text": [
            "9.552\n"
          ]
        }
      ]
    },
    {
      "cell_type": "markdown",
      "metadata": {
        "id": "Y2C0oTlewjY-"
      },
      "source": [
        "14. Разделим рецепты на группы по следующему правилу. Назовем рецепты короткими, если их продолжительность составляет менее 10 минут; стандартными, если их продолжительность составляет более 10, но менее 20 минут; и длинными, если их продолжительность составляет не менее 20 минут. Создайте трехмерный массив, где нулевая ось отвечает за номер группы (короткий, стандартный или длинный рецепт), первая ось - за сам рецепт и вторая ось - за характеристики рецепта. Выберите максимальное количество рецептов из каждой группы таким образом, чтобы было возможно сформировать трехмерный массив. Выведите форму полученного массива."
      ]
    },
    {
      "cell_type": "code",
      "execution_count": null,
      "metadata": {
        "id": "MNJW6aqfwjY-",
        "colab": {
          "base_uri": "https://localhost:8080/"
        },
        "outputId": "956d51dd-0daf-47cc-e5e3-98c18f85c450"
      },
      "outputs": [
        {
          "output_type": "stream",
          "name": "stdout",
          "text": [
            "[[[[ 67660      5      6]\n",
            "   [366174      7      9]\n",
            "   [204134      5      3]\n",
            "   ...\n",
            "   [  2778      0     11]\n",
            "   [420725      5      3]\n",
            "   [  4747      0      9]]\n",
            "\n",
            "  [[ 94746     10      6]\n",
            "   [ 33941     18      9]\n",
            "   [446597     15      5]\n",
            "   ...\n",
            "   [107094     10      4]\n",
            "   [  9831     15      7]\n",
            "   [335859     12     14]]\n",
            "\n",
            "  [[127244     60     16]\n",
            "   [ 23891     25      7]\n",
            "   [157911     60     14]\n",
            "   ...\n",
            "   [ 92137     80      9]\n",
            "   [168901     25      7]\n",
            "   [392339     35     13]]]]\n"
          ]
        }
      ],
      "source": [
        "group1 = recipe[recipe[:,1]<10]\n",
        "group2 = recipe[np.logical_and(recipe[:,1]>=10, recipe[:,1]<20)]\n",
        "group3 = recipe[recipe[:,1]>=20]\n",
        "max_num = min(len(group1), len(group2), len(group3))\n",
        "recipe_3d = np.array([[group1[:max_num-1],group2[:max_num-1],group3[:max_num-1]]])\n",
        "print(recipe_3d)"
      ]
    }
  ],
  "metadata": {
    "kernelspec": {
      "display_name": "Python 3 (ipykernel)",
      "language": "python",
      "name": "python3"
    },
    "language_info": {
      "codemirror_mode": {
        "name": "ipython",
        "version": 3
      },
      "file_extension": ".py",
      "mimetype": "text/x-python",
      "name": "python",
      "nbconvert_exporter": "python",
      "pygments_lexer": "ipython3",
      "version": "3.9.12"
    },
    "colab": {
      "provenance": []
    }
  },
  "nbformat": 4,
  "nbformat_minor": 0
}